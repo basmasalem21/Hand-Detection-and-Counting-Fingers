{
 "cells": [
  {
   "cell_type": "code",
   "execution_count": 23,
   "id": "b5956a22-2984-49be-bca1-17ca10e9fdc1",
   "metadata": {},
   "outputs": [],
   "source": [
    "#import libraries\n",
    "import cv2\n",
    "import os\n",
    "import time\n",
    "import  mediapipe\n",
    "import HandTrackingModule as htm"
   ]
  },
  {
   "cell_type": "code",
   "execution_count": 26,
   "id": "08561adb-f394-4af8-9e57-02a4dc012be0",
   "metadata": {},
   "outputs": [],
   "source": [
    "finger_images=os.listdir(\"finger_images\")\n",
    "images=[]\n",
    "for index,image in enumerate(finger_images):\n",
    "    if index==0:\n",
    "        continue\n",
    "    else:\n",
    "        image_path=f\"finger_images/{image}\"\n",
    "        #print(image_path)\n",
    "        image=cv2.imread(image_path)\n",
    "        #cv2.imshow(\"image1\",image)\n",
    "        images.append(image)\n",
    "        #image=image[0:100,30:100]\n",
    "        #cv2.imshow(\"image2\",image)\n",
    "        #cv2.waitKey(0)\n",
    "#print(images[0].shape)\n",
    "\n",
    "    "
   ]
  },
  {
   "cell_type": "code",
   "execution_count": 22,
   "id": "febde06e-2e46-41cd-888b-8b94f6c31ab1",
   "metadata": {},
   "outputs": [],
   "source": [
    "#opening webcam and start detecting hands and counting fingers\n",
    "cap= cv2.VideoCapture(0)\n",
    "w_cam,h_cam=500,500\n",
    "cap.set(3,w_cam)\n",
    "cap.set(4,h_cam)\n",
    "pTime=0\n",
    "detector = htm.handDetector(detectionCon=int(0.75))\n",
    "topIds=[8,12,16,20]\n",
    "while True:\n",
    "    success,img=cap.read()\n",
    "    img = cv2.flip(img, 1)\n",
    "    img = detector.findHands(img)\n",
    "    lmList = detector.findPosition(img, draw=False)\n",
    "    #print(lmList)\n",
    "    #print(len(lmList),lmList,\"\\n\")\n",
    "    if len(lmList)!=0:\n",
    "        fingers=[]\n",
    "        fingers.append(lmList[4][1]<lmList[3][1])\n",
    "        for i in range(4):\n",
    "            if lmList[topIds[i]][2]<lmList[topIds[i]-2][2]:\n",
    "                fingers.append(1)\n",
    "            \n",
    "        fingers_number=fingers.count(1)       \n",
    "        cv2.rectangle(img, (50, 255), (170, 425), (0, 255, 0), cv2.FILLED)\n",
    "        cv2.putText(img, str(fingers_number), (53, 386), cv2.FONT_HERSHEY_PLAIN,\n",
    "        10, (255, 0, 0), 25)     \n",
    "        h,w,c=images[fingers_number-1].shape\n",
    "        img[0:h,0:w]=images[fingers_number-1]\n",
    "\n",
    "    cTime=time.time()\n",
    "    fps=1/(cTime - pTime)\n",
    "    pTime=cTime\n",
    "    \n",
    "    cv2.putText(img, f'FPS: {int(fps)}', (400, 70), cv2.FONT_HERSHEY_PLAIN,3, (255, 0, 0), 3)\n",
    "    cv2.imshow(\"image\",img)\n",
    "    k=cv2.waitKey(1)\n",
    "    if k==27:\n",
    "        break\n",
    "cap.release()\n",
    "cv2.destroyAllWindows()"
   ]
  },
  {
   "cell_type": "code",
   "execution_count": null,
   "id": "66ea594c-ba93-4660-b999-9667c782cf1e",
   "metadata": {},
   "outputs": [],
   "source": []
  }
 ],
 "metadata": {
  "kernelspec": {
   "display_name": "Python 3 (ipykernel)",
   "language": "python",
   "name": "python3"
  },
  "language_info": {
   "codemirror_mode": {
    "name": "ipython",
    "version": 3
   },
   "file_extension": ".py",
   "mimetype": "text/x-python",
   "name": "python",
   "nbconvert_exporter": "python",
   "pygments_lexer": "ipython3",
   "version": "3.11.9"
  }
 },
 "nbformat": 4,
 "nbformat_minor": 5
}
